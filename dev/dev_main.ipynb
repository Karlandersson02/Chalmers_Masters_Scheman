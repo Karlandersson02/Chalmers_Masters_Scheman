{
 "cells": [
  {
   "cell_type": "code",
   "execution_count": 1,
   "metadata": {},
   "outputs": [],
   "source": [
    "import requests\n",
    "from bs4 import BeautifulSoup\n",
    "import re\n",
    "import json"
   ]
  },
  {
   "cell_type": "code",
   "execution_count": 2,
   "metadata": {},
   "outputs": [],
   "source": [
    "PHYSICS_YEAR1_FILE = r'.\\HTML_content\\year1_phys.txt'\n",
    "PHYSICS_YEAR2_FILE = r'.\\HTML_content\\year2_phys.txt'\n",
    "CAS_YEAR1_FILE = r'.\\HTML_content\\year1_cas.txt'\n",
    "CAS_YEAR2_FILE = r'.\\HTML_content\\year2_cas.txt'\n",
    "EM_YEAR1_FILE = r'.\\HTML_content\\year1_em.txt'\n",
    "EM_YEAR2_FILE = r'.\\HTML_content\\year2_em.txt'\n",
    "DATA_YEAR1_FILE = r'.\\HTML_content\\year1_data.txt'\n",
    "DATA_YEAR2_FILE = r'.\\HTML_content\\year2_data.txt'\n",
    "MOB_YEAR1_FILE = r'.\\HTML_content\\year1_mobility.txt'\n",
    "MOB_YEAR2_FILE = r'.\\HTML_content\\year2_mobility.txt'\n",
    "APP_YEAR1_FILE = r'.\\HTML_content\\year1_applied.txt'\n",
    "APP_YEAR2_FILE = r'.\\HTML_content\\year2_applied.txt'\n",
    "ALS_YEAR1_FILE = r'.\\HTML_content\\year1_als.txt'\n",
    "ALS_YEAR2_FILE = r'.\\HTML_content\\year2_als.txt'"
   ]
  },
  {
   "cell_type": "code",
   "execution_count": 3,
   "metadata": {},
   "outputs": [],
   "source": [
    "class scrape():\n",
    "    def __init__(self, YEAR1_FILE, YEAR2_FILE, loadfile=None):\n",
    "        if loadfile!=None:\n",
    "            self.load(loadfile)\n",
    "            return\n",
    "        self.YEAR1_FILE = YEAR1_FILE\n",
    "        self.YEAR2_FILE = YEAR2_FILE\n",
    "        with open(self.YEAR1_FILE, 'r') as FILE:\n",
    "            for line in FILE:\n",
    "                self.html_content1 = line.strip()\n",
    "                self.soup1 = BeautifulSoup(self.html_content1, 'html.parser')\n",
    "        with open(self.YEAR2_FILE, 'r') as FILE:\n",
    "            for line in FILE:\n",
    "                self.html_content2 = line.strip()\n",
    "                self.soup2 = BeautifulSoup(self.html_content2, 'html.parser')\n",
    "        href_pattern = re.compile(r'/en/education/your-studies/find-course-and-programme-syllabi/course-syllabus/')\n",
    "        self.links1 = self.soup1.find_all('a', href=href_pattern)\n",
    "        self.links2 = self.soup2.find_all('a', href=href_pattern)\n",
    "        self.courses_information1 = {link.get_text(): {'link': link['href']} for link in self.links1}\n",
    "        self.courses_information2 = {link.get_text(): {'link': link['href']} for link in self.links2}\n",
    "        self.courses_information = self.courses_information1 | self.courses_information2\n",
    "        self.html_contents_lps = {course_name: requests.get(r'https://www.chalmers.se' + self.courses_information[course_name]['link']).text for course_name in self.courses_information}\n",
    "\n",
    "        pattern = re.compile(r'^\\d+\\.\\d+\\sc|\\d+\\sc$')\n",
    "        for course_name in self.html_contents_lps:\n",
    "            soup = BeautifulSoup(self.html_contents_lps[course_name], 'html.parser')\n",
    "            lps_nest = soup.find_all(class_=r'[&>*]:leading-7')[0]\n",
    "            lps = lps_nest.find_all(class_='whitespace-nowrap')\n",
    "            indexes = []\n",
    "            for i in range(len(lps[1:-2])):\n",
    "                text = lps[1:-2][i].get_text()\n",
    "                if re.search(pattern, text) and '0' not in text:\n",
    "                    indexes.append(i+1)\n",
    "            self.courses_information[course_name]['lp'] = indexes\n",
    "        for course in self.courses_information:\n",
    "            if course in list(self.courses_information1.keys()) and course in list(self.courses_information2.keys()):\n",
    "                self.courses_information[course]['år'] = [1,2]\n",
    "            elif course in list(self.courses_information1.keys()):\n",
    "                self.courses_information[course]['år'] = [1]\n",
    "            elif course in list(self.courses_information2.keys()):\n",
    "                self.courses_information[course]['år'] = [2]\n",
    "    def get_lp(self, lp):\n",
    "        for course in list(self.courses_information.keys()):\n",
    "            if lp in self.courses_information[course]['lp']:\n",
    "                print('år: ', self.courses_information[course]['år'], '\\tlp: ', self.courses_information[course]['lp'], '\\t', course)\n",
    "    def save(self, SAVE_FILE):\n",
    "        with open(SAVE_FILE, 'w', encoding='utf-8') as FILE:\n",
    "            json.dump(self.courses_information, FILE)\n",
    "    def load(self, LOAD_FILE):\n",
    "        with open(LOAD_FILE, 'r', encoding='utf-8') as FILE:\n",
    "            self.courses_information = json.load(FILE)\n",
    "    def get_link(self, name):\n",
    "        for course in self.courses_information:\n",
    "            if (name).lower() in course.lower():\n",
    "                print(f'{course}: \\t', r'https://www.chalmers.se' + self.courses_information[course]['link'])\n",
    "    def get_information(self, name):\n",
    "        for course in self.courses_information:\n",
    "            if (name).lower() in course.lower():\n",
    "                print('år: ', self.courses_information[course]['år'], '\\tlp: ', self.courses_information[course]['lp'], '\\t', f'{course}: \\t', r'https://www.chalmers.se' + self.courses_information[course]['link'])"
   ]
  },
  {
   "cell_type": "code",
   "execution_count": 4,
   "metadata": {},
   "outputs": [],
   "source": [
    "EM = scrape(EM_YEAR1_FILE, EM_YEAR2_FILE, loadfile=r'.\\Courses_information\\course_information_em.json')\n",
    "PHYS = scrape(PHYSICS_YEAR1_FILE, PHYSICS_YEAR2_FILE, loadfile=r'.\\Courses_information\\course_information_phys.json')\n",
    "CAS = scrape(CAS_YEAR1_FILE, CAS_YEAR2_FILE, loadfile=r'.\\Courses_information\\course_information_cas.json')\n",
    "DATA = scrape(DATA_YEAR1_FILE, DATA_YEAR2_FILE, loadfile=r'.\\Courses_information\\course_information_data.json')\n",
    "MOB = scrape(MOB_YEAR1_FILE, MOB_YEAR2_FILE, loadfile=r'.\\Courses_information\\course_information_mob.json')\n",
    "APP = scrape(APP_YEAR1_FILE, APP_YEAR2_FILE, loadfile=r'.\\Courses_information\\course_information_app.json')\n",
    "ALS = scrape(ALS_YEAR1_FILE, ALS_YEAR2_FILE, loadfile=r'.\\Courses_information\\course_information_als.json')"
   ]
  },
  {
   "cell_type": "code",
   "execution_count": 5,
   "metadata": {},
   "outputs": [
    {
     "name": "stdout",
     "output_type": "stream",
     "text": [
      "år:  [1] \tlp:  [1] \t Systems and mechatronics for mobility engineering \n",
      "år:  [1] \tlp:  [1] \t Introduction to propulsion and energy systems for transport \n",
      "år:  [1, 2] \tlp:  [1, 2] \t Marine design project \n",
      "år:  [1, 2] \tlp:  [1] \t Aircraft design \n",
      "år:  [1, 2] \tlp:  [1, 2] \t Automotive engineering project \n",
      "år:  [1, 2] \tlp:  [1] \t Active safety \n",
      "år:  [1, 2] \tlp:  [1] \t Fatigue and fracture \n",
      "år:  [1, 2] \tlp:  [1] \t Introduction to data science and AI \n",
      "år:  [1, 2] \tlp:  [1] \t Quality management \n",
      "år:  [2] \tlp:  [1] \t Infrastructure and urban systems \n",
      "år:  [2] \tlp:  [1] \t Design and analysis of experiments \n",
      "år:  [2] \tlp:  [1, 2] \t Master's thesis in Architecture and civil engineering \n",
      "år:  [2] \tlp:  [1, 2] \t Master's thesis in Electrical engineering \n",
      "år:  [2] \tlp:  [1, 2] \t Master's thesis in Industrial and materials science \n",
      "år:  [2] \tlp:  [1, 2] \t Master's thesis in Mechanics and maritime sciences \n",
      "år:  [2] \tlp:  [1, 2] \t Master's thesis in Technology management and economics \n"
     ]
    }
   ],
   "source": [
    "MOB.get_lp(1)"
   ]
  }
 ],
 "metadata": {
  "kernelspec": {
   "display_name": "Python 3",
   "language": "python",
   "name": "python3"
  },
  "language_info": {
   "codemirror_mode": {
    "name": "ipython",
    "version": 3
   },
   "file_extension": ".py",
   "mimetype": "text/x-python",
   "name": "python",
   "nbconvert_exporter": "python",
   "pygments_lexer": "ipython3",
   "version": "3.10.11"
  }
 },
 "nbformat": 4,
 "nbformat_minor": 2
}
