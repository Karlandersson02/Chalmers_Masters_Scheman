{
 "cells": [
  {
   "cell_type": "code",
   "execution_count": 1,
   "metadata": {},
   "outputs": [],
   "source": [
    "import json"
   ]
  },
  {
   "cell_type": "code",
   "execution_count": 2,
   "metadata": {},
   "outputs": [],
   "source": [
    "PHYSICS_YEAR1_FILE = r'.\\HTML_content\\year1_phys.txt'\n",
    "PHYSICS_YEAR2_FILE = r'.\\HTML_content\\year2_phys.txt'\n",
    "CAS_YEAR1_FILE = r'.\\HTML_content\\year1_cas.txt'\n",
    "CAS_YEAR2_FILE = r'.\\HTML_content\\year2_cas.txt'\n",
    "EM_YEAR1_FILE = r'.\\HTML_content\\year1_em.txt'\n",
    "EM_YEAR2_FILE = r'.\\HTML_content\\year2_em.txt'\n",
    "DATA_YEAR1_FILE = r'.\\HTML_content\\year1_data.txt'\n",
    "DATA_YEAR2_FILE = r'.\\HTML_content\\year2_data.txt'\n",
    "MOB_YEAR1_FILE = r'.\\HTML_content\\year1_mobility.txt'\n",
    "MOB_YEAR2_FILE = r'.\\HTML_content\\year2_mobility.txt'\n",
    "APP_YEAR1_FILE = r'.\\HTML_content\\year1_applied.txt'\n",
    "APP_YEAR2_FILE = r'.\\HTML_content\\year2_applied.txt'\n",
    "ALS_YEAR1_FILE = r'.\\HTML_content\\year1_als.txt'\n",
    "ALS_YEAR2_FILE = r'.\\HTML_content\\year2_als.txt'"
   ]
  },
  {
   "cell_type": "code",
   "execution_count": 3,
   "metadata": {},
   "outputs": [],
   "source": [
    "class course():\n",
    "    def __init__(self, loadfile):\n",
    "        self.load(loadfile)\n",
    "\n",
    "    def get_lp(self, lp):\n",
    "        for course in list(self.courses_information.keys()):\n",
    "            if lp in self.courses_information[course]['lp']:\n",
    "                print('år: ', self.courses_information[course]['år'], '\\tlp: ', self.courses_information[course]['lp'], '\\t', course)\n",
    "    \n",
    "    def save(self, SAVE_FILE):\n",
    "        with open(SAVE_FILE, 'w', encoding='utf-8') as FILE:\n",
    "            json.dump(self.courses_information, FILE)\n",
    "    \n",
    "    def load(self, LOAD_FILE):\n",
    "        with open(LOAD_FILE, 'r', encoding='utf-8') as FILE:\n",
    "            self.courses_information = json.load(FILE)\n",
    "    \n",
    "    def get_link(self, name):\n",
    "        for course in self.courses_information:\n",
    "            if (name).lower() in course.lower():\n",
    "                print(f'{course}: \\t', r'https://www.chalmers.se' + self.courses_information[course]['link'])\n",
    "   \n",
    "    def get_information(self, name):\n",
    "        for course in self.courses_information:\n",
    "            if (name).lower() in course.lower():\n",
    "                print('år: ', self.courses_information[course]['år'], '\\tlp: ', self.courses_information[course]['lp'], '\\t', f'{course}: \\t', r'https://www.chalmers.se' + self.courses_information[course]['link'])"
   ]
  },
  {
   "cell_type": "code",
   "execution_count": 4,
   "metadata": {},
   "outputs": [],
   "source": [
    "PHYS = course(loadfile=r'..\\courses_information\\course_information_phys.json')\n",
    "EM = course(loadfile=r'..\\courses_information\\course_information_em.json')\n",
    "CAS = course(loadfile=r'..\\courses_information\\course_information_cas.json')\n",
    "DATA = course(loadfile=r'..\\courses_information\\course_information_data.json')\n",
    "APP = course(loadfile=r'..\\courses_information\\course_information_app.json')\n",
    "ALS = course(loadfile=r'..\\courses_information\\course_information_als.json')\n",
    "MOB = course(loadfile=r'..\\courses_information\\course_information_mob.json')"
   ]
  },
  {
   "cell_type": "code",
   "execution_count": 5,
   "metadata": {},
   "outputs": [
    {
     "name": "stdout",
     "output_type": "stream",
     "text": [
      "år:  [1] \tlp:  [1] \t Learning from data \n",
      "år:  [1] \tlp:  [1] \t Quantum mechanics \n",
      "år:  [1] \tlp:  [1] \t Experimental methods in modern physics \n",
      "år:  [1, 2] \tlp:  [1] \t Fundamentals of micro- and nanotechnology \n",
      "år:  [1, 2] \tlp:  [1] \t From quantum optics to quantum technologies \n",
      "år:  [1, 2] \tlp:  [1] \t Plasma physics with applications \n",
      "år:  [1, 2] \tlp:  [1] \t Galaxies and observational cosmology \n",
      "år:  [1, 2] \tlp:  [1] \t Surface and nanophysics \n",
      "år:  [1, 2] \tlp:  [1] \t Advanced materials imaging and microanalysis \n",
      "år:  [1, 2] \tlp:  [1] \t Standard model of particle physics \n",
      "år:  [2] \tlp:  [1] \t High performance computing \n",
      "år:  [2] \tlp:  [1, 2] \t Master's thesis in Physics \n",
      "år:  [2] \tlp:  [1] \t High performance computing : \t https://www.chalmers.se/en/education/your-studies/find-course-and-programme-syllabi/course-syllabus/TMA881/\n"
     ]
    }
   ],
   "source": [
    "# Visa kurser som går en viss läsperiod\n",
    "PHYS.get_lp(1)\n",
    "# Visa tid och länk för en kurs(du behöver inte ange hela namnet)\n",
    "PHYS.get_information('high perf')"
   ]
  }
 ],
 "metadata": {
  "kernelspec": {
   "display_name": "Python 3",
   "language": "python",
   "name": "python3"
  },
  "language_info": {
   "codemirror_mode": {
    "name": "ipython",
    "version": 3
   },
   "file_extension": ".py",
   "mimetype": "text/x-python",
   "name": "python",
   "nbconvert_exporter": "python",
   "pygments_lexer": "ipython3",
   "version": "3.10.11"
  }
 },
 "nbformat": 4,
 "nbformat_minor": 2
}
